{
 "cells": [
  {
   "cell_type": "code",
   "execution_count": 19,
   "id": "a6b13d0d",
   "metadata": {},
   "outputs": [
    {
     "name": "stdout",
     "output_type": "stream",
     "text": [
      "False\n"
     ]
    }
   ],
   "source": [
    "from hw5 import *\n",
    "import pandas as pd\n",
    "import pathlib\n",
    "import numpy as np\n",
    "from typing import Union, Tuple\n",
    "\n",
    "\n",
    "qa = QuestionnaireAnalysis(\"C:/Users/GaiaNegev/Projects/hw5-2025/data.json\")\n",
    "qa.read_data()\n",
    "\n",
    "print(hasattr(qa, \"show_age_distrib\"))  # should print True"
   ]
  }
 ],
 "metadata": {
  "kernelspec": {
   "display_name": ".venv",
   "language": "python",
   "name": "python3"
  },
  "language_info": {
   "codemirror_mode": {
    "name": "ipython",
    "version": 3
   },
   "file_extension": ".py",
   "mimetype": "text/x-python",
   "name": "python",
   "nbconvert_exporter": "python",
   "pygments_lexer": "ipython3",
   "version": "3.13.2"
  }
 },
 "nbformat": 4,
 "nbformat_minor": 5
}
